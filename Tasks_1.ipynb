{
 "cells": [
  {
   "cell_type": "markdown",
   "metadata": {},
   "source": [
    "## 1. Write a function to remove duplicate values in a string.\n",
    "Ex: ‘Hello’ as input, the output should be ‘Helo’. ‘Good’ as input, the output should be ‘God’."
   ]
  },
  {
   "cell_type": "code",
   "execution_count": 6,
   "metadata": {},
   "outputs": [
    {
     "name": "stdout",
     "output_type": "stream",
     "text": [
      "Enter your string :gGoOd\n",
      "dgo\n"
     ]
    }
   ],
   "source": [
    "def remove_duplicates(x):\n",
    "    return ''.join(set(x))\n",
    "print(remove_duplicates(input(\"Enter your string :\").lower()))"
   ]
  },
  {
   "cell_type": "markdown",
   "metadata": {},
   "source": [
    "## 2. Write a class and method under it to perform squareRoot, cuberoot and Nth root of a number.\n",
    "Ex:- If I pass number 8 and 3, it should return cube root of 8. If I pass 16 and 4, it should return fourth root of 16."
   ]
  },
  {
   "cell_type": "code",
   "execution_count": 42,
   "metadata": {},
   "outputs": [
    {
     "name": "stdout",
     "output_type": "stream",
     "text": [
      "Enter your input :5 2\n",
      "2th root of 5 is 2.24\n"
     ]
    }
   ],
   "source": [
    "class NumberRoot:\n",
    "    def perform_root(self,n,r):\n",
    "        return f'{r}th root of {n} is {n**(1/r):.2f}'\n",
    "obj = NumberRoot()\n",
    "num = input(\"Enter your input :\").split()\n",
    "print(obj.perform_root(int(num[0]),int(num[1])))\n",
    "#Note plz give input with space i.e 8 3 or 16 4"
   ]
  },
  {
   "cell_type": "markdown",
   "metadata": {},
   "source": [
    "## 3. Write a function which takes a list as input and returns list in a reverse order.\n",
    "Ex: [1,3,4,5,6] the output should be [6,5,4,3,1]"
   ]
  },
  {
   "cell_type": "code",
   "execution_count": 38,
   "metadata": {},
   "outputs": [
    {
     "name": "stdout",
     "output_type": "stream",
     "text": [
      "1,2,3,4\n",
      "[4, 3, 2, 1]\n"
     ]
    }
   ],
   "source": [
    "def rev_list(x):\n",
    "    x.reverse()\n",
    "    return x\n",
    "print(rev_list(list(map(int,input().split(',')))))"
   ]
  },
  {
   "cell_type": "markdown",
   "metadata": {},
   "source": [
    "## 4. Write a class which takes three inputs and returns the smallest and the largest number.\n",
    "Ex: ClassName.smallest(1,2,3) should return 1. ClassName.largest(1,2,3) should return 3.\n"
   ]
  },
  {
   "cell_type": "code",
   "execution_count": 41,
   "metadata": {},
   "outputs": [
    {
     "name": "stdout",
     "output_type": "stream",
     "text": [
      "Enter 1st value :5\n",
      "Enter 2ed value :6\n",
      "Enter 3ed value :9\n"
     ]
    },
    {
     "data": {
      "text/plain": [
       "'Biggest number is 9 and smallest number is 5'"
      ]
     },
     "execution_count": 41,
     "metadata": {},
     "output_type": "execute_result"
    }
   ],
   "source": [
    "class Big_Small:\n",
    "    def num(self,a,b,c):\n",
    "        return f'Biggest number is {max(a,b,c)} and smallest number is {min(a,b,c)}'\n",
    "obj = Big_Small()\n",
    "obj.num(a=int(input(\"Enter 1st value :\")),b=int(input(\"Enter 2ed value :\")),c= int(input(\"Enter 3ed value :\")))"
   ]
  }
 ],
 "metadata": {
  "kernelspec": {
   "display_name": "Python 3",
   "language": "python",
   "name": "python3"
  },
  "language_info": {
   "codemirror_mode": {
    "name": "ipython",
    "version": 3
   },
   "file_extension": ".py",
   "mimetype": "text/x-python",
   "name": "python",
   "nbconvert_exporter": "python",
   "pygments_lexer": "ipython3",
   "version": "3.7.6"
  }
 },
 "nbformat": 4,
 "nbformat_minor": 4
}
